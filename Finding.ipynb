{
 "cells": [
  {
   "cell_type": "code",
   "execution_count": 32,
   "metadata": {},
   "outputs": [],
   "source": [
    "import pandas as pd\n",
    "import numpy as np\n",
    "import matplotlib.pyplot as plt"
   ]
  },
  {
   "cell_type": "code",
   "execution_count": 33,
   "metadata": {},
   "outputs": [],
   "source": [
    "dt = pd.read_excel('Reading.xlsx')\n",
    "#dt.set_index(['Station'], inplace = True)\n",
    "#dt = dt.replace(r'^\\s*$', np.NaN, regex=True)\n",
    "dt = dt.replace(r'^\\s*$', np.NaN, regex=True)"
   ]
  },
  {
   "cell_type": "code",
   "execution_count": 34,
   "metadata": {},
   "outputs": [],
   "source": [
    "for station in range(0, len(dt.index)-1):\n",
    "    \n",
    "    if dt.isnull().loc[station, 'I.S.']:\n",
    "        s1 = dt.loc[station, 'B.S.']\n",
    "    else:\n",
    "        s1 = dt.loc[station, 'I.S.']\n",
    "    \n",
    "    if dt.isnull().loc[(station + 1), 'F.S.']:\n",
    "        s2 = dt.loc[station + 1, 'I.S.']\n",
    "    else:\n",
    "        s2 = dt.loc[station + 1, 'F.S.']\n",
    "        \n",
    "    difference = s1 - s2\n",
    "\n",
    "    if difference > 0:\n",
    "        dt.loc[station + 1, 'RISE'] = difference\n",
    "    else:\n",
    "        dt.loc[station + 1, 'FALL'] = difference\n",
    "    \n",
    "    \n",
    "    dt.loc[station + 1, 'R.L.'] = dt.loc[station, 'R.L.'] + difference\n",
    "    \n",
    "    "
   ]
  },
  {
   "cell_type": "code",
   "execution_count": 35,
   "metadata": {},
   "outputs": [],
   "source": [
    "dt.to_excel(\"Solved.xlsx\")"
   ]
  },
  {
   "cell_type": "code",
   "execution_count": 36,
   "metadata": {},
   "outputs": [
    {
     "data": {
      "text/html": [
       "<div>\n",
       "<style scoped>\n",
       "    .dataframe tbody tr th:only-of-type {\n",
       "        vertical-align: middle;\n",
       "    }\n",
       "\n",
       "    .dataframe tbody tr th {\n",
       "        vertical-align: top;\n",
       "    }\n",
       "\n",
       "    .dataframe thead th {\n",
       "        text-align: right;\n",
       "    }\n",
       "</style>\n",
       "<table border=\"1\" class=\"dataframe\">\n",
       "  <thead>\n",
       "    <tr style=\"text-align: right;\">\n",
       "      <th></th>\n",
       "      <th>Station</th>\n",
       "      <th>B.S.</th>\n",
       "      <th>I.S.</th>\n",
       "      <th>F.S.</th>\n",
       "      <th>RISE</th>\n",
       "      <th>FALL</th>\n",
       "      <th>R.L.</th>\n",
       "    </tr>\n",
       "  </thead>\n",
       "  <tbody>\n",
       "    <tr>\n",
       "      <th>0</th>\n",
       "      <td>1</td>\n",
       "      <td>0.385</td>\n",
       "      <td>NaN</td>\n",
       "      <td>NaN</td>\n",
       "      <td>NaN</td>\n",
       "      <td>NaN</td>\n",
       "      <td>208.125</td>\n",
       "    </tr>\n",
       "    <tr>\n",
       "      <th>1</th>\n",
       "      <td>2</td>\n",
       "      <td>NaN</td>\n",
       "      <td>1.030</td>\n",
       "      <td>NaN</td>\n",
       "      <td>NaN</td>\n",
       "      <td>-0.645</td>\n",
       "      <td>207.480</td>\n",
       "    </tr>\n",
       "    <tr>\n",
       "      <th>2</th>\n",
       "      <td>3</td>\n",
       "      <td>NaN</td>\n",
       "      <td>1.925</td>\n",
       "      <td>NaN</td>\n",
       "      <td>NaN</td>\n",
       "      <td>-0.895</td>\n",
       "      <td>206.585</td>\n",
       "    </tr>\n",
       "    <tr>\n",
       "      <th>3</th>\n",
       "      <td>4</td>\n",
       "      <td>NaN</td>\n",
       "      <td>2.825</td>\n",
       "      <td>NaN</td>\n",
       "      <td>NaN</td>\n",
       "      <td>-0.900</td>\n",
       "      <td>205.685</td>\n",
       "    </tr>\n",
       "    <tr>\n",
       "      <th>4</th>\n",
       "      <td>5</td>\n",
       "      <td>NaN</td>\n",
       "      <td>3.730</td>\n",
       "      <td>NaN</td>\n",
       "      <td>NaN</td>\n",
       "      <td>-0.905</td>\n",
       "      <td>204.780</td>\n",
       "    </tr>\n",
       "    <tr>\n",
       "      <th>5</th>\n",
       "      <td>6</td>\n",
       "      <td>0.625</td>\n",
       "      <td>NaN</td>\n",
       "      <td>4.685</td>\n",
       "      <td>NaN</td>\n",
       "      <td>-0.955</td>\n",
       "      <td>203.825</td>\n",
       "    </tr>\n",
       "    <tr>\n",
       "      <th>6</th>\n",
       "      <td>7</td>\n",
       "      <td>NaN</td>\n",
       "      <td>2.005</td>\n",
       "      <td>NaN</td>\n",
       "      <td>NaN</td>\n",
       "      <td>-1.380</td>\n",
       "      <td>202.445</td>\n",
       "    </tr>\n",
       "    <tr>\n",
       "      <th>7</th>\n",
       "      <td>8</td>\n",
       "      <td>NaN</td>\n",
       "      <td>3.110</td>\n",
       "      <td>NaN</td>\n",
       "      <td>NaN</td>\n",
       "      <td>-1.105</td>\n",
       "      <td>201.340</td>\n",
       "    </tr>\n",
       "    <tr>\n",
       "      <th>8</th>\n",
       "      <td>9</td>\n",
       "      <td>NaN</td>\n",
       "      <td>NaN</td>\n",
       "      <td>4.485</td>\n",
       "      <td>NaN</td>\n",
       "      <td>-1.375</td>\n",
       "      <td>199.965</td>\n",
       "    </tr>\n",
       "  </tbody>\n",
       "</table>\n",
       "</div>"
      ],
      "text/plain": [
       "   Station   B.S.   I.S.   F.S.  RISE   FALL     R.L.\n",
       "0        1  0.385    NaN    NaN   NaN    NaN  208.125\n",
       "1        2    NaN  1.030    NaN   NaN -0.645  207.480\n",
       "2        3    NaN  1.925    NaN   NaN -0.895  206.585\n",
       "3        4    NaN  2.825    NaN   NaN -0.900  205.685\n",
       "4        5    NaN  3.730    NaN   NaN -0.905  204.780\n",
       "5        6  0.625    NaN  4.685   NaN -0.955  203.825\n",
       "6        7    NaN  2.005    NaN   NaN -1.380  202.445\n",
       "7        8    NaN  3.110    NaN   NaN -1.105  201.340\n",
       "8        9    NaN    NaN  4.485   NaN -1.375  199.965"
      ]
     },
     "execution_count": 36,
     "metadata": {},
     "output_type": "execute_result"
    }
   ],
   "source": [
    "dt"
   ]
  },
  {
   "cell_type": "code",
   "execution_count": 37,
   "metadata": {},
   "outputs": [
    {
     "data": {
      "image/png": "[encoded data removed]",
      "text/plain": [
       "<Figure size 432x288 with 1 Axes>"
      ]
     },
     "metadata": {
      "needs_background": "light"
     },
     "output_type": "display_data"
    }
   ],
   "source": [
    "plt.plot(dt['Station'], dt['R.L.'])\n",
    "\n",
    "plt.xlabel('Station', labelpad=10)\n",
    "plt.ylabel('R.L.', rotation=0, labelpad=10)\n",
    "\n",
    "plt.yticks(rotation=45)\n",
    "\n",
    "plt.savefig('Graph.png')\n",
    "plt.show()"
   ]
  },
  {
   "cell_type": "code",
   "execution_count": null,
   "metadata": {},
   "outputs": [],
   "source": []
  }
 ],
 "metadata": {
  "kernelspec": {
   "display_name": "Python 3",
   "language": "python",
   "name": "python3"
  },
  "language_info": {
   "codemirror_mode": {
    "name": "ipython",
    "version": 3
   },
   "file_extension": ".py",
   "mimetype": "text/x-python",
   "name": "python",
   "nbconvert_exporter": "python",
   "pygments_lexer": "ipython3",
   "version": "3.8.3"
  }
 },
 "nbformat": 4,
 "nbformat_minor": 4
}
