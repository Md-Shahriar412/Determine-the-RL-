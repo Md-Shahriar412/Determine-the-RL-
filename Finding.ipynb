{
 "cells": [
  {
   "cell_type": "code",
   "execution_count": 5,
   "metadata": {},
   "outputs": [],
   "source": [
    "import pandas as pd\r\n",
    "import numpy as np\r\n",
    "import matplotlib.pyplot as plt\r\n",
    "import torch"
   ]
  },
  {
   "cell_type": "code",
   "execution_count": 6,
   "metadata": {},
   "outputs": [],
   "source": [
    "dt = pd.read_excel('Reading.xlsx')\n",
    "#dt.set_index(['Station'], inplace = True)\n",
    "#dt = dt.replace(r'^\\s*$', np.NaN, regex=True)\n",
    "dt = dt.replace(r'^\\s*$', np.NaN, regex=True)"
   ]
  },
  {
   "cell_type": "code",
   "execution_count": 7,
   "metadata": {},
   "outputs": [],
   "source": [
    "for station in range(0, len(dt.index)-1):\n",
    "    \n",
    "    if dt.isnull().loc[station, 'I.S.']:\n",
    "        s1 = dt.loc[station, 'B.S.']\n",
    "    else:\n",
    "        s1 = dt.loc[station, 'I.S.']\n",
    "    \n",
    "    if dt.isnull().loc[(station + 1), 'F.S.']:\n",
    "        s2 = dt.loc[station + 1, 'I.S.']\n",
    "    else:\n",
    "        s2 = dt.loc[station + 1, 'F.S.']\n",
    "        \n",
    "    difference = s1 - s2\n",
    "\n",
    "    if difference > 0:\n",
    "        dt.loc[station + 1, 'RISE'] = difference\n",
    "    else:\n",
    "        dt.loc[station + 1, 'FALL'] = difference\n",
    "    \n",
    "    \n",
    "    dt.loc[station + 1, 'R.L.'] = dt.loc[station, 'R.L.'] + difference\n",
    "    \n",
    "    "
   ]
  },
  {
   "cell_type": "code",
   "execution_count": 8,
   "metadata": {},
   "outputs": [],
   "source": [
    "dt.to_excel(\"Solved.xlsx\")"
   ]
  },
  {
   "cell_type": "code",
   "execution_count": 9,
   "metadata": {},
   "outputs": [
    {
     "data": {
      "text/html": "<div>\n<style scoped>\n    .dataframe tbody tr th:only-of-type {\n        vertical-align: middle;\n    }\n\n    .dataframe tbody tr th {\n        vertical-align: top;\n    }\n\n    .dataframe thead th {\n        text-align: right;\n    }\n</style>\n<table border=\"1\" class=\"dataframe\">\n  <thead>\n    <tr style=\"text-align: right;\">\n      <th></th>\n      <th>Station</th>\n      <th>B.S.</th>\n      <th>I.S.</th>\n      <th>F.S.</th>\n      <th>RISE</th>\n      <th>FALL</th>\n      <th>R.L.</th>\n    </tr>\n  </thead>\n  <tbody>\n    <tr>\n      <th>0</th>\n      <td>0</td>\n      <td>6.5</td>\n      <td>NaN</td>\n      <td>NaN</td>\n      <td>NaN</td>\n      <td>NaN</td>\n      <td>609.8</td>\n    </tr>\n    <tr>\n      <th>1</th>\n      <td>100</td>\n      <td>NaN</td>\n      <td>7.4</td>\n      <td>NaN</td>\n      <td>NaN</td>\n      <td>-0.9</td>\n      <td>608.9</td>\n    </tr>\n    <tr>\n      <th>2</th>\n      <td>200</td>\n      <td>NaN</td>\n      <td>7.7</td>\n      <td>NaN</td>\n      <td>NaN</td>\n      <td>-0.3</td>\n      <td>608.6</td>\n    </tr>\n    <tr>\n      <th>3</th>\n      <td>300</td>\n      <td>NaN</td>\n      <td>8.9</td>\n      <td>NaN</td>\n      <td>NaN</td>\n      <td>-1.2</td>\n      <td>607.4</td>\n    </tr>\n    <tr>\n      <th>4</th>\n      <td>400</td>\n      <td>NaN</td>\n      <td>9.1</td>\n      <td>NaN</td>\n      <td>NaN</td>\n      <td>-0.2</td>\n      <td>607.2</td>\n    </tr>\n    <tr>\n      <th>5</th>\n      <td>500</td>\n      <td>3.5</td>\n      <td>NaN</td>\n      <td>12.0</td>\n      <td>NaN</td>\n      <td>-2.9</td>\n      <td>604.3</td>\n    </tr>\n    <tr>\n      <th>6</th>\n      <td>600</td>\n      <td>NaN</td>\n      <td>8.5</td>\n      <td>NaN</td>\n      <td>NaN</td>\n      <td>-5.0</td>\n      <td>599.3</td>\n    </tr>\n    <tr>\n      <th>7</th>\n      <td>700</td>\n      <td>NaN</td>\n      <td>6.4</td>\n      <td>NaN</td>\n      <td>2.1</td>\n      <td>NaN</td>\n      <td>601.4</td>\n    </tr>\n    <tr>\n      <th>8</th>\n      <td>800</td>\n      <td>NaN</td>\n      <td>7.8</td>\n      <td>NaN</td>\n      <td>NaN</td>\n      <td>-1.4</td>\n      <td>600.0</td>\n    </tr>\n    <tr>\n      <th>9</th>\n      <td>900</td>\n      <td>NaN</td>\n      <td>8.6</td>\n      <td>NaN</td>\n      <td>NaN</td>\n      <td>-0.8</td>\n      <td>599.2</td>\n    </tr>\n    <tr>\n      <th>10</th>\n      <td>1000</td>\n      <td>NaN</td>\n      <td>NaN</td>\n      <td>11.5</td>\n      <td>NaN</td>\n      <td>-2.9</td>\n      <td>596.3</td>\n    </tr>\n  </tbody>\n</table>\n</div>",
      "text/plain": "    Station  B.S.  I.S.  F.S.  RISE  FALL   R.L.\n0         0   6.5   NaN   NaN   NaN   NaN  609.8\n1       100   NaN   7.4   NaN   NaN  -0.9  608.9\n2       200   NaN   7.7   NaN   NaN  -0.3  608.6\n3       300   NaN   8.9   NaN   NaN  -1.2  607.4\n4       400   NaN   9.1   NaN   NaN  -0.2  607.2\n5       500   3.5   NaN  12.0   NaN  -2.9  604.3\n6       600   NaN   8.5   NaN   NaN  -5.0  599.3\n7       700   NaN   6.4   NaN   2.1   NaN  601.4\n8       800   NaN   7.8   NaN   NaN  -1.4  600.0\n9       900   NaN   8.6   NaN   NaN  -0.8  599.2\n10     1000   NaN   NaN  11.5   NaN  -2.9  596.3"
     },
     "execution_count": 9,
     "metadata": {},
     "output_type": "execute_result"
    }
   ],
   "source": [
    "dt"
   ]
  },
  {
   "cell_type": "code",
   "execution_count": 11,
   "metadata": {},
   "outputs": [
    {
     "data": {
      "image/png": "[encoded data removed]",
      "text/plain": "<Figure size 432x288 with 1 Axes>"
     },
     "metadata": {
      "needs_background": "light"
     },
     "output_type": "display_data"
    }
   ],
   "source": [
    "plt.plot(dt['Station'], dt['R.L.'])\n",
    "\n",
    "plt.xlabel('Station', labelpad=10)\n",
    "plt.ylabel('R.L.', rotation=0, labelpad=10)\n",
    "\n",
    "plt.yticks(rotation=45)\n",
    "\n",
    "plt.savefig('Graph.png')\n",
    "plt.show()"
   ]
  },
  {
   "cell_type": "code",
   "execution_count": null,
   "metadata": {},
   "outputs": [],
   "source": []
  }
 ],
 "metadata": {
  "kernelspec": {
   "display_name": "Python 3.8.8 64-bit ('base': conda)",
   "name": "python388jvsc74a57bd031ff804e05c542abfdab620000e5333bc9afc6a565bbee95afa27485d8eec998"
  },
  "language_info": {
   "codemirror_mode": {
    "name": "ipython",
    "version": 3
   },
   "file_extension": ".py",
   "mimetype": "text/x-python",
   "name": "python",
   "nbconvert_exporter": "python",
   "pygments_lexer": "ipython3",
   "version": "3.8.8"
  },
  "orig_nbformat": 3
 },
 "nbformat": 4,
 "nbformat_minor": 4
}